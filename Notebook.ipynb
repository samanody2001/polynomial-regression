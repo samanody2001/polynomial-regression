{
  "nbformat": 4,
  "nbformat_minor": 0,
  "metadata": {
    "colab": {
      "provenance": [],
      "collapsed_sections": []
    },
    "kernelspec": {
      "name": "python3",
      "display_name": "Python 3"
    },
    "language_info": {
      "name": "python"
    }
  },
  "cells": [
    {
      "cell_type": "code",
      "execution_count": 140,
      "metadata": {
        "id": "VX33jZ9eYmQd"
      },
      "outputs": [],
      "source": [
        "import numpy as np\n",
        "import pandas as pd\n",
        "import matplotlib.pyplot as plt\n",
        "import seaborn as sns\n",
        "from sklearn.preprocessing import PolynomialFeatures\n",
        "from sklearn.model_selection import train_test_split\n",
        "from sklearn.linear_model import LinearRegression\n",
        "from sklearn.metrics import mean_absolute_error,mean_squared_error\n",
        "from sklearn.preprocessing import StandardScaler\n",
        "from sklearn.linear_model import RidgeCV"
      ]
    },
    {
      "cell_type": "code",
      "source": [
        "df = pd.read_csv(\"Advertising.csv\")"
      ],
      "metadata": {
        "id": "28OX77c3ZFfO"
      },
      "execution_count": 141,
      "outputs": []
    },
    {
      "cell_type": "code",
      "source": [
        "df.head()"
      ],
      "metadata": {
        "colab": {
          "base_uri": "https://localhost:8080/",
          "height": 206
        },
        "id": "9zZWycEeZLBz",
        "outputId": "e107ef29-efd3-4217-f5ee-cc23f96c5d7b"
      },
      "execution_count": 142,
      "outputs": [
        {
          "output_type": "execute_result",
          "data": {
            "text/plain": [
              "      TV  radio  newspaper  sales\n",
              "0  230.1   37.8       69.2   22.1\n",
              "1   44.5   39.3       45.1   10.4\n",
              "2   17.2   45.9       69.3    9.3\n",
              "3  151.5   41.3       58.5   18.5\n",
              "4  180.8   10.8       58.4   12.9"
            ],
            "text/html": [
              "\n",
              "  <div id=\"df-b77ad4b3-38ff-44cf-8800-3862d040b182\">\n",
              "    <div class=\"colab-df-container\">\n",
              "      <div>\n",
              "<style scoped>\n",
              "    .dataframe tbody tr th:only-of-type {\n",
              "        vertical-align: middle;\n",
              "    }\n",
              "\n",
              "    .dataframe tbody tr th {\n",
              "        vertical-align: top;\n",
              "    }\n",
              "\n",
              "    .dataframe thead th {\n",
              "        text-align: right;\n",
              "    }\n",
              "</style>\n",
              "<table border=\"1\" class=\"dataframe\">\n",
              "  <thead>\n",
              "    <tr style=\"text-align: right;\">\n",
              "      <th></th>\n",
              "      <th>TV</th>\n",
              "      <th>radio</th>\n",
              "      <th>newspaper</th>\n",
              "      <th>sales</th>\n",
              "    </tr>\n",
              "  </thead>\n",
              "  <tbody>\n",
              "    <tr>\n",
              "      <th>0</th>\n",
              "      <td>230.1</td>\n",
              "      <td>37.8</td>\n",
              "      <td>69.2</td>\n",
              "      <td>22.1</td>\n",
              "    </tr>\n",
              "    <tr>\n",
              "      <th>1</th>\n",
              "      <td>44.5</td>\n",
              "      <td>39.3</td>\n",
              "      <td>45.1</td>\n",
              "      <td>10.4</td>\n",
              "    </tr>\n",
              "    <tr>\n",
              "      <th>2</th>\n",
              "      <td>17.2</td>\n",
              "      <td>45.9</td>\n",
              "      <td>69.3</td>\n",
              "      <td>9.3</td>\n",
              "    </tr>\n",
              "    <tr>\n",
              "      <th>3</th>\n",
              "      <td>151.5</td>\n",
              "      <td>41.3</td>\n",
              "      <td>58.5</td>\n",
              "      <td>18.5</td>\n",
              "    </tr>\n",
              "    <tr>\n",
              "      <th>4</th>\n",
              "      <td>180.8</td>\n",
              "      <td>10.8</td>\n",
              "      <td>58.4</td>\n",
              "      <td>12.9</td>\n",
              "    </tr>\n",
              "  </tbody>\n",
              "</table>\n",
              "</div>\n",
              "      <button class=\"colab-df-convert\" onclick=\"convertToInteractive('df-b77ad4b3-38ff-44cf-8800-3862d040b182')\"\n",
              "              title=\"Convert this dataframe to an interactive table.\"\n",
              "              style=\"display:none;\">\n",
              "        \n",
              "  <svg xmlns=\"http://www.w3.org/2000/svg\" height=\"24px\"viewBox=\"0 0 24 24\"\n",
              "       width=\"24px\">\n",
              "    <path d=\"M0 0h24v24H0V0z\" fill=\"none\"/>\n",
              "    <path d=\"M18.56 5.44l.94 2.06.94-2.06 2.06-.94-2.06-.94-.94-2.06-.94 2.06-2.06.94zm-11 1L8.5 8.5l.94-2.06 2.06-.94-2.06-.94L8.5 2.5l-.94 2.06-2.06.94zm10 10l.94 2.06.94-2.06 2.06-.94-2.06-.94-.94-2.06-.94 2.06-2.06.94z\"/><path d=\"M17.41 7.96l-1.37-1.37c-.4-.4-.92-.59-1.43-.59-.52 0-1.04.2-1.43.59L10.3 9.45l-7.72 7.72c-.78.78-.78 2.05 0 2.83L4 21.41c.39.39.9.59 1.41.59.51 0 1.02-.2 1.41-.59l7.78-7.78 2.81-2.81c.8-.78.8-2.07 0-2.86zM5.41 20L4 18.59l7.72-7.72 1.47 1.35L5.41 20z\"/>\n",
              "  </svg>\n",
              "      </button>\n",
              "      \n",
              "  <style>\n",
              "    .colab-df-container {\n",
              "      display:flex;\n",
              "      flex-wrap:wrap;\n",
              "      gap: 12px;\n",
              "    }\n",
              "\n",
              "    .colab-df-convert {\n",
              "      background-color: #E8F0FE;\n",
              "      border: none;\n",
              "      border-radius: 50%;\n",
              "      cursor: pointer;\n",
              "      display: none;\n",
              "      fill: #1967D2;\n",
              "      height: 32px;\n",
              "      padding: 0 0 0 0;\n",
              "      width: 32px;\n",
              "    }\n",
              "\n",
              "    .colab-df-convert:hover {\n",
              "      background-color: #E2EBFA;\n",
              "      box-shadow: 0px 1px 2px rgba(60, 64, 67, 0.3), 0px 1px 3px 1px rgba(60, 64, 67, 0.15);\n",
              "      fill: #174EA6;\n",
              "    }\n",
              "\n",
              "    [theme=dark] .colab-df-convert {\n",
              "      background-color: #3B4455;\n",
              "      fill: #D2E3FC;\n",
              "    }\n",
              "\n",
              "    [theme=dark] .colab-df-convert:hover {\n",
              "      background-color: #434B5C;\n",
              "      box-shadow: 0px 1px 3px 1px rgba(0, 0, 0, 0.15);\n",
              "      filter: drop-shadow(0px 1px 2px rgba(0, 0, 0, 0.3));\n",
              "      fill: #FFFFFF;\n",
              "    }\n",
              "  </style>\n",
              "\n",
              "      <script>\n",
              "        const buttonEl =\n",
              "          document.querySelector('#df-b77ad4b3-38ff-44cf-8800-3862d040b182 button.colab-df-convert');\n",
              "        buttonEl.style.display =\n",
              "          google.colab.kernel.accessAllowed ? 'block' : 'none';\n",
              "\n",
              "        async function convertToInteractive(key) {\n",
              "          const element = document.querySelector('#df-b77ad4b3-38ff-44cf-8800-3862d040b182');\n",
              "          const dataTable =\n",
              "            await google.colab.kernel.invokeFunction('convertToInteractive',\n",
              "                                                     [key], {});\n",
              "          if (!dataTable) return;\n",
              "\n",
              "          const docLinkHtml = 'Like what you see? Visit the ' +\n",
              "            '<a target=\"_blank\" href=https://colab.research.google.com/notebooks/data_table.ipynb>data table notebook</a>'\n",
              "            + ' to learn more about interactive tables.';\n",
              "          element.innerHTML = '';\n",
              "          dataTable['output_type'] = 'display_data';\n",
              "          await google.colab.output.renderOutput(dataTable, element);\n",
              "          const docLink = document.createElement('div');\n",
              "          docLink.innerHTML = docLinkHtml;\n",
              "          element.appendChild(docLink);\n",
              "        }\n",
              "      </script>\n",
              "    </div>\n",
              "  </div>\n",
              "  "
            ]
          },
          "metadata": {},
          "execution_count": 142
        }
      ]
    },
    {
      "cell_type": "code",
      "source": [
        "X=df.drop('sales',axis=1)\n",
        "y=df['sales']\n",
        "X_train, X_test, y_train, y_test = train_test_split(X, y, test_size=0.2)"
      ],
      "metadata": {
        "id": "IiZndKOTbywj"
      },
      "execution_count": 143,
      "outputs": []
    },
    {
      "cell_type": "code",
      "source": [
        "model = LinearRegression()\n",
        "model.fit(X_train,y_train)\n",
        "y_pred3 = model.predict(X_test)\n",
        "df4 = pd.DataFrame({'Actual': y_test, 'Predicted':y_pred3})\n",
        "print('Mean square error is :'+ str(mean_squared_error(y_test, y_pred3, squared=True)))\n",
        "print('Root Mean square error is :'+ str(mean_squared_error(y_test, y_pred3, squared=False)))\n",
        "print('Residual sum of squares of degree :'+ str(np.sum(np.square(df4['Predicted'] - df4['Actual']))))"
      ],
      "metadata": {
        "colab": {
          "base_uri": "https://localhost:8080/"
        },
        "id": "nffHtjRkMv90",
        "outputId": "e5f47e36-98fb-467d-f374-fc492307d37c"
      },
      "execution_count": 144,
      "outputs": [
        {
          "output_type": "stream",
          "name": "stdout",
          "text": [
            "Mean square error is :2.291305689577221\n",
            "Root Mean square error is :1.5137059455446493\n",
            "Residual sum of squares of degree :91.65222758308884\n"
          ]
        }
      ]
    },
    {
      "cell_type": "code",
      "source": [
        "#Ridge Regression with cross validation\n",
        "ss = StandardScaler()\n",
        "Z_train = ss.fit_transform(X_train)\n",
        "Z_train = pd.DataFrame(ss.transform(X_train), columns=X_train.columns)\n",
        "Z_test = ss.fit_transform(X_test)\n",
        "Z_test = pd.DataFrame(ss.transform(X_test), columns=X_test.columns)\n",
        "r_alphas = np.logspace(0, 5, 100)\n",
        "# initiate the cross validation over alphas\n",
        "ridge_model = RidgeCV(alphas=r_alphas, scoring='r2')\n",
        "ridge_model = ridge_model.fit(Z_train, y_train)\n",
        "y_pred2= ridge_model.predict(Z_test)\n",
        "df3 = pd.DataFrame({'Actual': y_test, 'Predicted':y_pred2})\n",
        "print('Mean square error is :'+ str(mean_squared_error(y_test, y_pred2, squared=True)))\n",
        "print('Root Mean square error is :'+ str(mean_squared_error(y_test, y_pred2, squared=False)))\n",
        "print('Residual sum of squares of degree :'+ str(np.sum(np.square(df3['Predicted'] - df3['Actual']))))"
      ],
      "metadata": {
        "colab": {
          "base_uri": "https://localhost:8080/"
        },
        "id": "ZTPjGuzMC3Jf",
        "outputId": "2fbfcced-96ad-431c-af2c-825123f66216"
      },
      "execution_count": 145,
      "outputs": [
        {
          "output_type": "stream",
          "name": "stdout",
          "text": [
            "Mean square error is :2.2441947006905396\n",
            "Root Mean square error is :1.4980636504136062\n",
            "Residual sum of squares of degree :89.76778802762159\n"
          ]
        }
      ]
    },
    {
      "cell_type": "code",
      "source": [
        "#Polynomial regresssion\n",
        "#Best degree through Root mean square error,mean square error and Residual sum of squares (Note 3 is the best degree in polynomial regression)\n",
        "number_degrees = [1,2,3,4,5,6,7,8,9,10]\n",
        "number_degreess = [1,2,3,4,5]\n",
        "plt_mean_squared_error = []\n",
        "for degree in number_degrees:\n",
        "  #visualizing only degrees from 1 to 5\n",
        "   if(len(plt_mean_squared_error)==5):\n",
        "      plt.title(\"Root_Mean Squared error degree 1 to 5\")\n",
        "      plt.scatter(number_degreess,plt_mean_squared_error, color=\"green\")\n",
        "      plt.plot(number_degreess,plt_mean_squared_error, color=\"red\")\n",
        "   poly_model = PolynomialFeatures(degree=degree)\n",
        "   poly_x_train = poly_model.fit_transform(X_train)\n",
        "   poly_x_test = poly_model.fit_transform(X_test)\n",
        "   regression_model = LinearRegression()\n",
        "   regression_model.fit(poly_x_train, y_train)\n",
        "   y_pred = regression_model.predict(poly_x_test)\n",
        "   df2 = pd.DataFrame({'Actual': y_test, 'Predicted':\n",
        "    y_pred})\n",
        "   print('Degree:'+ str(degree ))\n",
        "   print('Mean square error of degree '+ str(degree ) +' is :'+ str(mean_squared_error(y_test, y_pred, squared=True)))\n",
        "   print('RMSE of degree '+ str(degree ) +' is :'+ str(mean_squared_error(y_test, y_pred, squared=False)))\n",
        "   print('Residual sum of squares of degree '+ str(degree ) +' is :'+ str(np.sum(np.square(df2['Predicted'] - df2['Actual']))))\n",
        "   print('------------------------------------------------------------------------------------------------------------')\n",
        "   plt_mean_squared_error.append(mean_squared_error(y_test, y_pred, squared=False))"
      ],
      "metadata": {
        "colab": {
          "base_uri": "https://localhost:8080/",
          "height": 1000
        },
        "id": "TGDyh3Zq639-",
        "outputId": "a4a2152b-8a38-4956-dea8-cf5d3cdd8d3a"
      },
      "execution_count": 171,
      "outputs": [
        {
          "output_type": "stream",
          "name": "stdout",
          "text": [
            "Degree:1\n",
            "Mean square error of degree 1 is :2.2913056895772184\n",
            "RMSE of degree 1 is :1.5137059455446484\n",
            "Residual sum of squares of degree 1 is :91.65222758308873\n",
            "------------------------------------------------------------------------------------------------------------\n",
            "Degree:2\n",
            "Mean square error of degree 2 is :0.3569258391305822\n",
            "RMSE of degree 2 is :0.5974327067800876\n",
            "Residual sum of squares of degree 2 is :14.277033565223286\n",
            "------------------------------------------------------------------------------------------------------------\n",
            "Degree:3\n",
            "Mean square error of degree 3 is :0.2687925082362712\n",
            "RMSE of degree 3 is :0.5184520307957827\n",
            "Residual sum of squares of degree 3 is :10.751700329450848\n",
            "------------------------------------------------------------------------------------------------------------\n",
            "Degree:4\n",
            "Mean square error of degree 4 is :0.4020167600666881\n",
            "RMSE of degree 4 is :0.6340479162229682\n",
            "Residual sum of squares of degree 4 is :16.080670402667522\n",
            "------------------------------------------------------------------------------------------------------------\n",
            "Degree:5\n",
            "Mean square error of degree 5 is :9.371395171142105\n",
            "RMSE of degree 5 is :3.061273455792884\n",
            "Residual sum of squares of degree 5 is :374.8558068456842\n",
            "------------------------------------------------------------------------------------------------------------\n",
            "Degree:6\n",
            "Mean square error of degree 6 is :156.84934288665755\n",
            "RMSE of degree 6 is :12.523950769891167\n",
            "Residual sum of squares of degree 6 is :6273.973715466302\n",
            "------------------------------------------------------------------------------------------------------------\n",
            "Degree:7\n",
            "Mean square error of degree 7 is :245809.98781632556\n",
            "RMSE of degree 7 is :495.7922829334131\n",
            "Residual sum of squares of degree 7 is :9832399.512653023\n",
            "------------------------------------------------------------------------------------------------------------\n",
            "Degree:8\n",
            "Mean square error of degree 8 is :29191727.99398247\n",
            "RMSE of degree 8 is :5402.936978531442\n",
            "Residual sum of squares of degree 8 is :1167669119.7592988\n",
            "------------------------------------------------------------------------------------------------------------\n",
            "Degree:9\n",
            "Mean square error of degree 9 is :1042573100.0037949\n",
            "RMSE of degree 9 is :32288.900569759182\n",
            "Residual sum of squares of degree 9 is :41702924000.151794\n",
            "------------------------------------------------------------------------------------------------------------\n",
            "Degree:10\n",
            "Mean square error of degree 10 is :156512109845.46735\n",
            "RMSE of degree 10 is :395616.114238876\n",
            "Residual sum of squares of degree 10 is :6260484393818.694\n",
            "------------------------------------------------------------------------------------------------------------\n"
          ]
        },
        {
          "output_type": "display_data",
          "data": {
            "text/plain": [
              "<Figure size 432x288 with 1 Axes>"
            ],
            "image/png": "[encoded data removed]"
          },
          "metadata": {
            "needs_background": "light"
          }
        }
      ]
    },
    {
      "cell_type": "code",
      "source": [
        "#Plotting degrees from 1 to 10,but the above code plot from 1 to 5 to be abl to understand more the data\n",
        "plt.title(\"Root_Mean Squared error from degree 1 to 10\")\n",
        "plt.scatter(number_degrees,plt_mean_squared_error, color=\"green\")\n",
        "plt.plot(number_degrees,plt_mean_squared_error, color=\"red\")"
      ],
      "metadata": {
        "id": "l-jnaZkBgSJW",
        "outputId": "e512b1d7-2366-407a-f12a-31520f5f4482",
        "colab": {
          "base_uri": "https://localhost:8080/",
          "height": 298
        }
      },
      "execution_count": 170,
      "outputs": [
        {
          "output_type": "execute_result",
          "data": {
            "text/plain": [
              "[<matplotlib.lines.Line2D at 0x7f402bf65ad0>]"
            ]
          },
          "metadata": {},
          "execution_count": 170
        },
        {
          "output_type": "display_data",
          "data": {
            "text/plain": [
              "<Figure size 432x288 with 1 Axes>"
            ],
            "image/png": "[encoded data removed]"
          },
          "metadata": {
            "needs_background": "light"
          }
        }
      ]
    },
    {
      "cell_type": "code",
      "source": [
        "#Polynomial regression degree 3\n",
        "poly_model = PolynomialFeatures(3)\n",
        "poly_x_train = poly_model.fit_transform(X_train)\n",
        "poly_x_test=poly_model.fit_transform(X_test)\n",
        "regression_model = LinearRegression()\n",
        "regression_model.fit(poly_x_train, y_train)"
      ],
      "metadata": {
        "id": "D5-ppoGfa8_7",
        "outputId": "c5ac75d9-61cb-4fe3-f079-33fd4368be98",
        "colab": {
          "base_uri": "https://localhost:8080/"
        }
      },
      "execution_count": 172,
      "outputs": [
        {
          "output_type": "execute_result",
          "data": {
            "text/plain": [
              "LinearRegression()"
            ]
          },
          "metadata": {},
          "execution_count": 172
        }
      ]
    },
    {
      "cell_type": "code",
      "source": [
        "from joblib import dump, load\n",
        "dump(regression_model, 'optimal_polyreg_model')"
      ],
      "metadata": {
        "id": "aPS6ePBCbOfB",
        "outputId": "f78f91f5-17f0-424e-de6a-a2e6a4b6bd1f",
        "colab": {
          "base_uri": "https://localhost:8080/"
        }
      },
      "execution_count": 173,
      "outputs": [
        {
          "output_type": "execute_result",
          "data": {
            "text/plain": [
              "['optimal_polyreg_model']"
            ]
          },
          "metadata": {},
          "execution_count": 173
        }
      ]
    },
    {
      "cell_type": "code",
      "source": [
        "loaded_model = load('optimal_polyreg_model')"
      ],
      "metadata": {
        "id": "0_507AmUbTxY"
      },
      "execution_count": 174,
      "outputs": []
    },
    {
      "cell_type": "code",
      "source": [
        "campaign = [[149,22,12]]\n",
        "campaign_modified=poly_model.fit_transform(campaign)\n",
        "loaded_model.predict(campaign_modified)"
      ],
      "metadata": {
        "id": "l0nh8SOFbVdX",
        "outputId": "16c4bab6-34aa-4123-e505-c73d79c3232d",
        "colab": {
          "base_uri": "https://localhost:8080/"
        }
      },
      "execution_count": 175,
      "outputs": [
        {
          "output_type": "execute_result",
          "data": {
            "text/plain": [
              "array([14.65926665])"
            ]
          },
          "metadata": {},
          "execution_count": 175
        }
      ]
    }
  ]
}